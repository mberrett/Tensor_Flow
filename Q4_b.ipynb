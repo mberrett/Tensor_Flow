{
 "cells": [
  {
   "cell_type": "markdown",
   "metadata": {},
   "source": [
    "# Feed-Forward Neural Nets on the MNIST Dataset\n",
    "\n",
    "In the last homework, our network struggled to differentiate between 8s and 5s. In this assignment, we will use a deep learning framework known as Tensorflow to improve our model.\n",
    "\n",
    "In this exercise you will implement a 3-layer feed-forward neural network with ReLU activation to perform a binary classification task. We will attempt to take in images and classify them as 8s or 5s."
   ]
  },
  {
   "cell_type": "markdown",
   "metadata": {},
   "source": [
    "<img src=\"mnist_sample.png\", height=\"200\" width=\"200\">"
   ]
  },
  {
   "cell_type": "markdown",
   "metadata": {},
   "source": [
    "## Task 1: Load the Data\n",
    "\n",
    "Using the np.loadtxt() function, import all the data."
   ]
  },
  {
   "cell_type": "code",
   "execution_count": 1,
   "metadata": {},
   "outputs": [
    {
     "name": "stderr",
     "output_type": "stream",
     "text": [
      "/Users/MatiasBerretta/anaconda/lib/python3.6/site-packages/h5py/__init__.py:34: FutureWarning: Conversion of the second argument of issubdtype from `float` to `np.floating` is deprecated. In future, it will be treated as `np.float64 == np.dtype(float).type`.\n",
      "  from ._conv import register_converters as _register_converters\n"
     ]
    },
    {
     "name": "stdout",
     "output_type": "stream",
     "text": [
      "Extracting MNIST_data/train-images-idx3-ubyte.gz\n",
      "Extracting MNIST_data/train-labels-idx1-ubyte.gz\n",
      "Extracting MNIST_data/t10k-images-idx3-ubyte.gz\n",
      "Extracting MNIST_data/t10k-labels-idx1-ubyte.gz\n",
      "Datasets(train=<tensorflow.contrib.learn.python.learn.datasets.mnist.DataSet object at 0x11b09dcf8>, validation=<tensorflow.contrib.learn.python.learn.datasets.mnist.DataSet object at 0x11b0a7cc0>, test=<tensorflow.contrib.learn.python.learn.datasets.mnist.DataSet object at 0x11b0a7b70>)\n"
     ]
    }
   ],
   "source": [
    "import tensorflow as tf\n",
    "import numpy as np\n",
    "from tensorflow.examples.tutorials.mnist import input_data\n",
    "\n",
    "mnist = input_data.read_data_sets(\"MNIST_data/\", one_hot=True)\n",
    "\n",
    "training_images = mnist.train.images\n",
    "labels = mnist.train.labels\n",
    "test_images = mnist.test.images\n",
    "test_labels = mnist.test.labels\n",
    "\n",
    "print(mnist)"
   ]
  },
  {
   "cell_type": "code",
   "execution_count": 2,
   "metadata": {},
   "outputs": [
    {
     "data": {
      "text/plain": [
       "(55000, 784)"
      ]
     },
     "execution_count": 2,
     "metadata": {},
     "output_type": "execute_result"
    }
   ],
   "source": [
    "np.shape(training_images)"
   ]
  },
  {
   "cell_type": "markdown",
   "metadata": {},
   "source": [
    "## Declaring Placeholders (Inputs)\n",
    "\n",
    "Tensorflow uses the \"placeholder\" keyword to denote values to feed into the network as input. Write all placeholders necessary to perform our learning problem:"
   ]
  },
  {
   "cell_type": "code",
   "execution_count": 3,
   "metadata": {
    "collapsed": true
   },
   "outputs": [],
   "source": [
    "img=tf.placeholder(tf.float32, [None,784])\n",
    "ans = tf.placeholder(tf.float32, [None, 10])"
   ]
  },
  {
   "cell_type": "markdown",
   "metadata": {},
   "source": [
    "## Network Architecture\n",
    "\n",
    "Your Network should contain 3 feed-forward layers, each with a bias vector. The structure should be as follows:\n",
    "* Feed-forward layer from 784 nodes to 784 nodes\n",
    "* Feed-forward layer from 784 nodes to 256 nodes\n",
    "* Feed-forward layer from 256 nodes to 2 nodes"
   ]
  },
  {
   "cell_type": "code",
   "execution_count": 4,
   "metadata": {
    "collapsed": true
   },
   "outputs": [],
   "source": [
    "hiddenSz1 = 784\n",
    "hiddenSz2 = 256\n",
    "inputs = 784\n",
    "out_layer = 10\n",
    "\n",
    "w1 = tf.Variable(tf.random_normal([inputs,hiddenSz1],stddev = 0.1))\n",
    "b1 = tf.Variable(tf.random_normal([hiddenSz1]))\n",
    "w2 = tf.Variable(tf.random_normal([hiddenSz1,hiddenSz2],stddev = 0.1))\n",
    "b2 = tf.Variable(tf.random_normal([hiddenSz2]))\n",
    "w3 = tf.Variable(tf.random_normal([hiddenSz2,out_layer],stddev = 0.1))\n",
    "b3 = tf.Variable(tf.random_normal([out_layer]))"
   ]
  },
  {
   "cell_type": "markdown",
   "metadata": {},
   "source": [
    "## Forward and Backward Pass\n",
    "Code in the forward and backward pass for the Neural Net\n",
    "* Use ReLU activation\n",
    "* Use softmax probabilities \n",
    "* Use cross entropy loss function"
   ]
  },
  {
   "cell_type": "code",
   "execution_count": 5,
   "metadata": {
    "collapsed": true
   },
   "outputs": [],
   "source": [
    "# Performing the forward pass through the layers\n",
    "L1 = tf.nn.relu(tf.matmul(img,w1)+b1)\n",
    "L2 = tf.nn.relu(tf.matmul(L1,w2)+b2)\n",
    "# Softmax Probabilities (network output)\n",
    "before_prbs = tf.matmul(L2,w3)+b3\n",
    "prbs = tf.nn.softmax(tf.matmul(L2,w3)+b3)\n",
    "\n",
    "# backward pass -- adjusting the parameters\n",
    "# Note: You don't need to compute the gradient yourself. \n",
    "# Simply use the tf.train.GradientDescentOptimizer() function \n",
    "xEnt = tf.reduce_mean(tf.nn.softmax_cross_entropy_with_logits_v2(labels=ans, logits=before_prbs))\n",
    "train = tf.train.GradientDescentOptimizer(0.01).minimize(xEnt)\n",
    "\n",
    "# Compute the accuracy\n",
    "numCorrect = tf.equal(tf.argmax(prbs,1),tf.argmax(ans,1))\n",
    "accuracy = tf.reduce_mean(tf.cast(numCorrect, tf.float32))\n",
    "\n",
    "\n",
    "sess = tf.Session()\n",
    "sess.run(tf.global_variables_initializer())\n"
   ]
  },
  {
   "cell_type": "markdown",
   "metadata": {},
   "source": [
    "## Training the Model\n",
    "Use SGD to train the network"
   ]
  },
  {
   "cell_type": "code",
   "execution_count": null,
   "metadata": {
    "collapsed": true
   },
   "outputs": [],
   "source": [
    "for i in range(len(training_images)):\n",
    "    imgs = [training_images[i]]\n",
    "    anss = [labels[i]]\n",
    "    sess.run(train, feed_dict={img: imgs, ans: anss})"
   ]
  },
  {
   "cell_type": "markdown",
   "metadata": {},
   "source": [
    "## Finishing Training and Computing Final Training and Testing Accuracy\n",
    "Now that the model is trained, check the accuracy and observe the improvement!"
   ]
  },
  {
   "cell_type": "code",
   "execution_count": null,
   "metadata": {},
   "outputs": [],
   "source": [
    "sumAcc=0\n",
    "for i in range(len(test_images)):\n",
    "    imgs = [test_images[i]]\n",
    "    anss = [test_labels[i]]\n",
    "    sumAcc += sess.run(accuracy, feed_dict={img: imgs, ans: anss})\n",
    "\n",
    "trainacc = 0\n",
    "for i in range(len(training_images)):\n",
    "    imgs = [training_images[i]]\n",
    "    anss = [labels[i]]\n",
    "    trainacc += sess.run(accuracy, feed_dict={img: imgs, ans: anss})\n",
    "\n",
    "\n",
    "print (\"Train Accuracy: %r\" % (trainacc/len(training_images)))\n",
    "print (\"Test Accuracy: %r\" % (sumAcc/len(test_images)))\n"
   ]
  },
  {
   "cell_type": "markdown",
   "metadata": {},
   "source": [
    " "
   ]
  }
 ],
 "metadata": {
  "kernelspec": {
   "display_name": "Python 3",
   "language": "python",
   "name": "python3"
  },
  "language_info": {
   "codemirror_mode": {
    "name": "ipython",
    "version": 3
   },
   "file_extension": ".py",
   "mimetype": "text/x-python",
   "name": "python",
   "nbconvert_exporter": "python",
   "pygments_lexer": "ipython3",
   "version": "3.6.1"
  }
 },
 "nbformat": 4,
 "nbformat_minor": 2
}
