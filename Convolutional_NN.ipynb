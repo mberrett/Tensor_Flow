{
 "cells": [
  {
   "cell_type": "markdown",
   "metadata": {},
   "source": [
    "# Convolutional Neural Networks"
   ]
  },
  {
   "cell_type": "markdown",
   "metadata": {},
   "source": [
    "<img src=\"mnist_sample.png\", height=200, width=200>"
   ]
  },
  {
   "cell_type": "markdown",
   "metadata": {},
   "source": [
    "## Task 1: Load the Data\n",
    "\n",
    "Load the entire MNIST set from Tensorflow's dataset."
   ]
  },
  {
   "cell_type": "code",
   "execution_count": 1,
   "metadata": {},
   "outputs": [
    {
     "name": "stderr",
     "output_type": "stream",
     "text": [
      "/Users/MatiasBerretta/anaconda/lib/python3.6/site-packages/h5py/__init__.py:34: FutureWarning: Conversion of the second argument of issubdtype from `float` to `np.floating` is deprecated. In future, it will be treated as `np.float64 == np.dtype(float).type`.\n",
      "  from ._conv import register_converters as _register_converters\n"
     ]
    },
    {
     "name": "stdout",
     "output_type": "stream",
     "text": [
      "Successfully downloaded train-images-idx3-ubyte.gz 9912422 bytes.\n",
      "Extracting MNIST_data/train-images-idx3-ubyte.gz\n",
      "Successfully downloaded train-labels-idx1-ubyte.gz 28881 bytes.\n",
      "Extracting MNIST_data/train-labels-idx1-ubyte.gz\n",
      "Successfully downloaded t10k-images-idx3-ubyte.gz 1648877 bytes.\n",
      "Extracting MNIST_data/t10k-images-idx3-ubyte.gz\n",
      "Successfully downloaded t10k-labels-idx1-ubyte.gz 4542 bytes.\n",
      "Extracting MNIST_data/t10k-labels-idx1-ubyte.gz\n"
     ]
    }
   ],
   "source": [
    "import time\n",
    "import tensorflow as tf\n",
    "from tensorflow.examples.tutorials.mnist import input_data\n",
    "mnist = input_data.read_data_sets(\"MNIST_data/\", one_hot=True)\n",
    "\n",
    "# set batchSz batch gradient descent\n",
    "batchSz = 50\n",
    "\n",
    "# set hiddenSz for the hidden layer\n",
    "hiddenSz = 1000 \n",
    "\n",
    "# set learning rate \n",
    "l = 0.0004"
   ]
  },
  {
   "cell_type": "code",
   "execution_count": 2,
   "metadata": {},
   "outputs": [
    {
     "name": "stdout",
     "output_type": "stream",
     "text": [
      "(55000, 784)\n"
     ]
    }
   ],
   "source": [
    "print(mnist.train.images.shape)"
   ]
  },
  {
   "cell_type": "code",
   "execution_count": 3,
   "metadata": {},
   "outputs": [
    {
     "name": "stdout",
     "output_type": "stream",
     "text": [
      "(55000, 10)\n"
     ]
    }
   ],
   "source": [
    "print(mnist.train.labels.shape)"
   ]
  },
  {
   "cell_type": "markdown",
   "metadata": {},
   "source": [
    "# Placeholders:"
   ]
  },
  {
   "cell_type": "code",
   "execution_count": 4,
   "metadata": {
    "collapsed": true
   },
   "outputs": [],
   "source": [
    "# Images and their corresponding labels\n",
    "img = tf.placeholder(tf.float32, [None,28,28,1])\n",
    "ans = tf.placeholder(tf.float32, [None, 10])"
   ]
  },
  {
   "cell_type": "markdown",
   "metadata": {},
   "source": [
    "## Architecture\n",
    "* First convolution layer with 5x5 filter with 1 in channel and 32(k=32) in depth and SAME padding\n",
    "* ReLU\n",
    "* Maxpooling layer with 2x2 filter and SAME padding\n",
    "* Second Convolution layer with 5x5 filter 32 in channel and 64 in depth(k=64)\n",
    "* ReLU\n",
    "* Maxpooling layer with 2x2 filter and SAME padding\n",
    "* Feed-forward layer from 3136 (you should have 3136 parameters at this point) to 1000\n",
    "* ReLU\n",
    "* Feed-forward layer from 1000 to 10\n",
    "* Softmax/Sigmoid\n"
   ]
  },
  {
   "cell_type": "code",
   "execution_count": 5,
   "metadata": {
    "collapsed": true
   },
   "outputs": [],
   "source": [
    "\n",
    "# First Convolution layer with 5x5 filters, 1 in channel, and 32 depth\n",
    "# 50*28*28*1\n",
    "conv1 = tf.layers.conv2d(inputs=img,filters=32,kernel_size=5,strides = 1,padding='same',activation=tf.nn.relu) # -> 32*28*28*1\n",
    "pool1 = tf.layers.max_pooling2d(inputs=conv1, pool_size=[2, 2], strides=2)  # -> 50*14*14*32\n",
    "\n",
    "# Second convolution layer with 5x5 filters, 32 in channel, and 64 in depth\n",
    "# 50*14*14*32\n",
    "conv2 = tf.layers.conv2d(inputs=pool1,filters=64,kernel_size= 5,strides=1,padding='same',activation=tf.nn.relu) # 50*14*14*64\n",
    "pool2 = tf.layers.max_pooling2d(inputs=conv2, pool_size=[2, 2], strides=2)   # -> 50*7*7*64\n",
    "\n",
    "pool2_flat = tf.reshape(pool2, [-1,7 * 7 * 64])\n",
    "\n",
    "# initialize W and bw for the first hidden layer: W should be (64*7*7 by hiddensize), bw should be (hiddensize by 1)\n",
    "wh1 = tf.Variable(tf.random_normal([64*7*7,hiddenSz],stddev = 0.1))\n",
    "bh1 = tf.Variable(tf.random_normal([1,hiddenSz]))\n",
    "\n",
    "feedf1 = tf.nn.relu(tf.matmul(pool2_flat,wh1)+bh1)\n",
    "\n",
    "# initialize V and bv for the final layer: V should be (hiddensize by 10), and bv should be (10 by 1)\n",
    "v = tf.Variable(tf.random_normal([hiddenSz,10],stddev = 0.1))\n",
    "bv = tf.Variable(tf.random_normal([1,10],stddev = 0.1))\n",
    "\n",
    "before_prbs = tf.matmul(feedf1,v)+bv\n",
    "prbs = tf.nn.softmax(before_prbs)\n"
   ]
  },
  {
   "cell_type": "markdown",
   "metadata": {},
   "source": [
    "## Forward and Backward Pass\n",
    "Write the forward and backward pass in tensorflow\n",
    "* Use cross entropy loss\n",
    "* Use AdamOptimizer"
   ]
  },
  {
   "cell_type": "code",
   "execution_count": null,
   "metadata": {
    "collapsed": true
   },
   "outputs": [],
   "source": [
    "# Forward passs -- compute the cross entropy and output probabilities\n",
    "xEnt = tf.reduce_mean(tf.nn.softmax_cross_entropy_with_logits_v2(labels=ans, logits=before_prbs))\n",
    "\n",
    "# Backward pass\n",
    "# Note: you don't need to compute the gradient \n",
    "# Simply use the tf.train.AdamOptimizer() function\n",
    "train = tf.train.AdamOptimizer(0.0004).minimize(xEnt)\n",
    "\n",
    "# Compute Accuracy\n",
    "numCorrect = tf.equal(tf.argmax(prbs,1),tf.argmax(ans,1))\n",
    "accuracy = tf.reduce_mean(tf.cast(numCorrect, tf.float32))\n",
    "\n",
    "sess = tf.Session()\n",
    "sess.run(tf.global_variables_initializer())"
   ]
  },
  {
   "cell_type": "markdown",
   "metadata": {},
   "source": [
    "## Training the Network and Testing our Results\n",
    "Train on 2000 batches"
   ]
  },
  {
   "cell_type": "code",
   "execution_count": null,
   "metadata": {
    "collapsed": true,
    "scrolled": true
   },
   "outputs": [],
   "source": [
    "start = time.time()\n",
    "\n",
    "# Training on 2000 batches\n",
    "for i in range(2000):\n",
    "    imgs, anss = mnist.train.next_batch(batchSz)\n",
    "    sess.run(train, feed_dict={img: imgs.reshape([batchSz,28,28,1]), ans: anss})\n",
    "\n",
    "\n",
    "trainAcc=0\n",
    "# Training accuracy\n",
    "for i in range(len(mnist.train.images)):\n",
    "    imgs, anss= mnist.train.next_batch(1)\n",
    "    trainAcc += sess.run(accuracy, feed_dict={img: imgs.reshape([1,28,28,1]), ans: anss})\n",
    "print (\"Train Accuracy: %r\" % (trainAcc/len(mnist.train.images)))\n",
    "\n",
    "sumAcc=0\n",
    "# Testing each image\n",
    "for i in range(len(mnist.test.images)):\n",
    "    imgs, anss= mnist.test.next_batch(1)\n",
    "    sumAcc += sess.run(accuracy, feed_dict={img: imgs.reshape([1,28,28,1]), ans: anss})\n",
    "print (\"Test Accuracy: %r\" % (sumAcc/len(mnist.test.images)))\n",
    "\n",
    "end = time.time()\n",
    "print(\"Runtime: %g\" % (end - start))"
   ]
  },
  {
   "cell_type": "markdown",
   "metadata": {},
   "source": []
  },
  {
   "cell_type": "markdown",
   "metadata": {},
   "source": [
    " "
   ]
  }
 ],
 "metadata": {
  "kernelspec": {
   "display_name": "Python 3",
   "language": "python",
   "name": "python3"
  },
  "language_info": {
   "codemirror_mode": {
    "name": "ipython",
    "version": 3
   },
   "file_extension": ".py",
   "mimetype": "text/x-python",
   "name": "python",
   "nbconvert_exporter": "python",
   "pygments_lexer": "ipython3",
   "version": "3.6.1"
  }
 },
 "nbformat": 4,
 "nbformat_minor": 1
}
